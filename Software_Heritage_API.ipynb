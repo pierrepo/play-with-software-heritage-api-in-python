{
 "cells": [
  {
   "cell_type": "markdown",
   "id": "1991d0a6-af73-419f-bfb2-ddac174cd739",
   "metadata": {},
   "source": [
    "# Tests with Software Heritage API\n",
    "\n",
    "Documentation:\n",
    "\n",
    "- [rate limit](https://archive.softwareheritage.org/api/#rate-limiting)\n",
    "- [API endpoints](https://archive.softwareheritage.org/api/1/)"
   ]
  },
  {
   "cell_type": "code",
   "execution_count": 1,
   "id": "e5ed5cc7-4fa1-43f4-87ab-a563ebfcd049",
   "metadata": {
    "execution": {
     "iopub.execute_input": "2024-10-24T15:01:07.574053Z",
     "iopub.status.busy": "2024-10-24T15:01:07.573633Z",
     "iopub.status.idle": "2024-10-24T15:01:07.627165Z",
     "shell.execute_reply": "2024-10-24T15:01:07.626634Z",
     "shell.execute_reply.started": "2024-10-24T15:01:07.574023Z"
    }
   },
   "outputs": [],
   "source": [
    "import json\n",
    "\n",
    "\n",
    "import requests"
   ]
  },
  {
   "cell_type": "markdown",
   "id": "3eddf10c-6add-46e3-aba7-9bf07b7661ff",
   "metadata": {},
   "source": [
    "## Configuration\n",
    "\n",
    "- [create token](https://archive.softwareheritage.org/oidc/profile/#tokens)\n",
    "- API root :  https://archive.softwareheritage.org"
   ]
  },
  {
   "cell_type": "code",
   "execution_count": 1,
   "id": "22965ddc-8a48-4721-9c89-45ce50ef0454",
   "metadata": {
    "execution": {
     "iopub.execute_input": "2024-10-24T16:29:33.527199Z",
     "iopub.status.busy": "2024-10-24T16:29:33.526240Z",
     "iopub.status.idle": "2024-10-24T16:29:33.532036Z",
     "shell.execute_reply": "2024-10-24T16:29:33.531146Z",
     "shell.execute_reply.started": "2024-10-24T16:29:33.527156Z"
    }
   },
   "outputs": [],
   "source": [
    "token = \"XXXXX\"\n",
    "base_url = \"https://archive.softwareheritage.org\"\n",
    "headers = {\"Authorization\": f\"Bearer {token}\"}"
   ]
  },
  {
   "cell_type": "markdown",
   "id": "3d98a3a8-3c9c-4f38-af0c-782ec82c517f",
   "metadata": {},
   "source": [
    "## Check authentication (token) is working\n",
    "\n",
    "The `/api/1/ping/` [endpoint](https://archive.softwareheritage.org/api/1/ping/) is here to check the API is working properly.\n",
    "\n",
    "Authenticated users have a limit of [1200 requests per hour](https://archive.softwareheritage.org/api/#rate-limiting)"
   ]
  },
  {
   "cell_type": "code",
   "execution_count": 3,
   "id": "c64ced86-65b0-412c-beab-2fb9b3cbe6fe",
   "metadata": {
    "execution": {
     "iopub.execute_input": "2024-10-24T15:01:07.701028Z",
     "iopub.status.busy": "2024-10-24T15:01:07.700712Z",
     "iopub.status.idle": "2024-10-24T15:01:07.800289Z",
     "shell.execute_reply": "2024-10-24T15:01:07.797590Z",
     "shell.execute_reply.started": "2024-10-24T15:01:07.700999Z"
    }
   },
   "outputs": [
    {
     "name": "stdout",
     "output_type": "stream",
     "text": [
      "Status code: 200\n",
      "Max number of requests per hour: 1200\n",
      "User is authenticated\n"
     ]
    }
   ],
   "source": [
    "endpoint = \"/api/1/ping/\"\n",
    "response = requests.get(base_url + endpoint, headers=headers)\n",
    "\n",
    "print(f\"Status code: {response.status_code}\")\n",
    "request_per_hour = response.headers['X-RateLimit-Limit']\n",
    "print(f\"Max number of requests per hour: {request_per_hour}\")\n",
    "if request_per_hour == \"1200\":\n",
    "    print(\"User is authenticated\")\n",
    "else:\n",
    "    print(\"User is not authenticated. Check the token.\")"
   ]
  },
  {
   "cell_type": "code",
   "execution_count": 4,
   "id": "78b1ebc9-bede-4282-8f93-ea7ca9e74c44",
   "metadata": {
    "execution": {
     "iopub.execute_input": "2024-10-24T15:01:07.804320Z",
     "iopub.status.busy": "2024-10-24T15:01:07.803140Z",
     "iopub.status.idle": "2024-10-24T15:01:07.815054Z",
     "shell.execute_reply": "2024-10-24T15:01:07.813902Z",
     "shell.execute_reply.started": "2024-10-24T15:01:07.804215Z"
    }
   },
   "outputs": [
    {
     "name": "stdout",
     "output_type": "stream",
     "text": [
      "Detailed headers:\n",
      "{\n",
      "    \"Date\": \"Thu, 24 Oct 2024 15:01:07 GMT\",\n",
      "    \"Content-Type\": \"application/json\",\n",
      "    \"Content-Length\": \"6\",\n",
      "    \"Vary\": \"Accept, origin, Cookie\",\n",
      "    \"Allow\": \"HEAD, GET, OPTIONS, OPTIONS\",\n",
      "    \"X-RateLimit-Limit\": \"1200\",\n",
      "    \"X-RateLimit-Remaining\": \"1194\",\n",
      "    \"X-RateLimit-Reset\": \"1729782071\",\n",
      "    \"X-Frame-Options\": \"DENY\",\n",
      "    \"X-Content-Type-Options\": \"nosniff\",\n",
      "    \"Referrer-Policy\": \"same-origin\",\n",
      "    \"Cross-Origin-Opener-Policy\": \"same-origin\",\n",
      "    \"X-Varnish\": \"334008188\",\n",
      "    \"Age\": \"0\",\n",
      "    \"Via\": \"1.1 varnish (Varnish/6.5)\",\n",
      "    \"Strict-Transport-Security\": \"max-age=15768000;\",\n",
      "    \"Accept-Ranges\": \"bytes\",\n",
      "    \"Connection\": \"keep-alive\"\n",
      "}\n"
     ]
    }
   ],
   "source": [
    "print(\"Detailed headers:\")\n",
    "print(json.dumps(dict(response.headers), indent=4))"
   ]
  },
  {
   "cell_type": "code",
   "execution_count": 5,
   "id": "336c7199-2797-41d2-a912-80a715957a0e",
   "metadata": {
    "execution": {
     "iopub.execute_input": "2024-10-24T15:01:07.816568Z",
     "iopub.status.busy": "2024-10-24T15:01:07.816201Z",
     "iopub.status.idle": "2024-10-24T15:01:07.827925Z",
     "shell.execute_reply": "2024-10-24T15:01:07.826979Z",
     "shell.execute_reply.started": "2024-10-24T15:01:07.816534Z"
    }
   },
   "outputs": [
    {
     "data": {
      "text/plain": [
       "b'\"pong\"'"
      ]
     },
     "execution_count": 5,
     "metadata": {},
     "output_type": "execute_result"
    }
   ],
   "source": [
    "response.content"
   ]
  },
  {
   "cell_type": "markdown",
   "id": "824c8180-f665-4f80-809b-9b7402e54484",
   "metadata": {},
   "source": [
    "Expected answer: `pong`"
   ]
  },
  {
   "cell_type": "markdown",
   "id": "8b1810fd-129a-4eb5-9226-06d2bce9f4cb",
   "metadata": {},
   "source": [
    "## Get the latest archive date (if any)\n",
    "\n",
    "Use the `/api/1/origin/visit/latest` [endpoint](https://archive.softwareheritage.org/api/1/origin/visit/latest/doc/)\n",
    "\n",
    "With a repo already archived:"
   ]
  },
  {
   "cell_type": "code",
   "execution_count": 6,
   "id": "761ac774-baa3-455a-8341-031437b183b2",
   "metadata": {
    "execution": {
     "iopub.execute_input": "2024-10-24T15:01:07.831234Z",
     "iopub.status.busy": "2024-10-24T15:01:07.830487Z",
     "iopub.status.idle": "2024-10-24T15:01:07.943097Z",
     "shell.execute_reply": "2024-10-24T15:01:07.940970Z",
     "shell.execute_reply.started": "2024-10-24T15:01:07.831202Z"
    }
   },
   "outputs": [
    {
     "name": "stdout",
     "output_type": "stream",
     "text": [
      "Status code: 200\n",
      "Content:\n",
      "{\n",
      "    \"origin\": \"https://github.com/pierrepo/biopyassistant\",\n",
      "    \"visit\": 7,\n",
      "    \"date\": \"2024-10-18T16:14:44.398000+00:00\",\n",
      "    \"status\": \"full\",\n",
      "    \"snapshot\": \"f3fda6d6ccb5b4258cd656a37a4c2903a849df9b\",\n",
      "    \"type\": \"git\",\n",
      "    \"metadata\": {},\n",
      "    \"origin_url\": \"https://archive.softwareheritage.org/api/1/origin/https://github.com/pierrepo/biopyassistant/get/\",\n",
      "    \"snapshot_url\": \"https://archive.softwareheritage.org/api/1/snapshot/f3fda6d6ccb5b4258cd656a37a4c2903a849df9b/\"\n",
      "}\n"
     ]
    }
   ],
   "source": [
    "repo_url = \"https://github.com/pierrepo/biopyassistant\"\n",
    "endpoint = f\"/api/1/origin/{repo_url}/visit/latest/\"\n",
    "response = requests.get(base_url + endpoint, headers=headers)\n",
    "\n",
    "print(f\"Status code: {response.status_code}\")\n",
    "print(\"Content:\")\n",
    "print(json.dumps(response.json(), indent=4))"
   ]
  },
  {
   "cell_type": "code",
   "execution_count": 7,
   "id": "32c8c645-190f-45d7-ae52-27d796b93c5e",
   "metadata": {
    "execution": {
     "iopub.execute_input": "2024-10-24T15:01:07.946085Z",
     "iopub.status.busy": "2024-10-24T15:01:07.945373Z",
     "iopub.status.idle": "2024-10-24T15:01:07.956420Z",
     "shell.execute_reply": "2024-10-24T15:01:07.954378Z",
     "shell.execute_reply.started": "2024-10-24T15:01:07.946001Z"
    }
   },
   "outputs": [
    {
     "name": "stdout",
     "output_type": "stream",
     "text": [
      "Latest archive: 2024-10-18T16:14:44.398000+00:00\n"
     ]
    }
   ],
   "source": [
    "print(f\"Latest archive: {response.json()['date']}\")"
   ]
  },
  {
   "cell_type": "markdown",
   "id": "7d819e45-aab4-4c93-8ea9-05b6e09da2c8",
   "metadata": {
    "execution": {
     "iopub.execute_input": "2024-10-24T14:35:25.264446Z",
     "iopub.status.busy": "2024-10-24T14:35:25.264051Z",
     "iopub.status.idle": "2024-10-24T14:35:25.269795Z",
     "shell.execute_reply": "2024-10-24T14:35:25.268683Z",
     "shell.execute_reply.started": "2024-10-24T14:35:25.264412Z"
    }
   },
   "source": [
    "If a repo has already been archived in Software Heritage:\n",
    "\n",
    "- the status code is 200\n",
    "- the date of the last archive is provided\n",
    "\n",
    "With a repo not archived:"
   ]
  },
  {
   "cell_type": "code",
   "execution_count": 8,
   "id": "84726a8a-e3d4-4620-a550-ec14ea364e93",
   "metadata": {
    "execution": {
     "iopub.execute_input": "2024-10-24T15:01:07.959794Z",
     "iopub.status.busy": "2024-10-24T15:01:07.958811Z",
     "iopub.status.idle": "2024-10-24T15:01:08.171135Z",
     "shell.execute_reply": "2024-10-24T15:01:08.168345Z",
     "shell.execute_reply.started": "2024-10-24T15:01:07.959701Z"
    }
   },
   "outputs": [
    {
     "name": "stdout",
     "output_type": "stream",
     "text": [
      "Status code: 404\n",
      "Content:\n",
      "{\n",
      "    \"exception\": \"NotFoundExc\",\n",
      "    \"reason\": \"Origin with url https://github.com/pierrepo/thisrepodoesnotexist not found!\"\n",
      "}\n"
     ]
    }
   ],
   "source": [
    "repo_url = \"https://github.com/pierrepo/thisrepodoesnotexist\"\n",
    "endpoint = f\"/api/1/origin/{repo_url}/visit/latest/\"\n",
    "response = requests.get(base_url + endpoint, headers=headers)\n",
    "\n",
    "print(f\"Status code: {response.status_code}\")\n",
    "print(\"Content:\")\n",
    "print(json.dumps(response.json(), indent=4))"
   ]
  },
  {
   "cell_type": "markdown",
   "id": "321395bd-b810-4b96-9356-f666cc2db8de",
   "metadata": {},
   "source": [
    "If a repo has never been archived in Software Heritage:\n",
    "\n",
    "- the status code is 404"
   ]
  },
  {
   "cell_type": "markdown",
   "id": "93d97b34-b8b5-4845-9919-6d09fa03c33d",
   "metadata": {},
   "source": [
    "## Archive a repo\n",
    "\n",
    "Use the `/api/1/origin/save` [endpoint](https://archive.softwareheritage.org/api/1/origin/save/doc/)\n",
    "\n",
    "One way to find respositoties not yet archived on GitHub is to look at [trending repo](https://github.com/trending).\n"
   ]
  },
  {
   "cell_type": "code",
   "execution_count": 9,
   "id": "566d749a-938f-4716-8971-98aceac2ba56",
   "metadata": {
    "execution": {
     "iopub.execute_input": "2024-10-24T15:01:08.175398Z",
     "iopub.status.busy": "2024-10-24T15:01:08.174235Z",
     "iopub.status.idle": "2024-10-24T15:01:08.904316Z",
     "shell.execute_reply": "2024-10-24T15:01:08.903102Z",
     "shell.execute_reply.started": "2024-10-24T15:01:08.175290Z"
    }
   },
   "outputs": [
    {
     "name": "stdout",
     "output_type": "stream",
     "text": [
      "Status code: 200\n",
      "Content:\n",
      "{\n",
      "    \"id\": 1705270,\n",
      "    \"origin_url\": \"https://github.com/langgenius/dify\",\n",
      "    \"visit_type\": \"git\",\n",
      "    \"save_request_date\": \"2024-10-24T15:01:08.856227+00:00\",\n",
      "    \"save_request_status\": \"accepted\",\n",
      "    \"save_task_status\": \"pending\",\n",
      "    \"visit_status\": null,\n",
      "    \"visit_date\": null,\n",
      "    \"loading_task_id\": 416908143,\n",
      "    \"note\": null,\n",
      "    \"from_webhook\": false,\n",
      "    \"webhook_origin\": null,\n",
      "    \"snapshot_swhid\": null,\n",
      "    \"next_run\": \"2024-10-24T15:01:08.693120Z\",\n",
      "    \"request_url\": \"https://archive.softwareheritage.org/api/1/origin/save/1705270/\"\n",
      "}\n"
     ]
    }
   ],
   "source": [
    "repo_url = \"https://github.com/langgenius/dify\"\n",
    "repo_type = \"git\"\n",
    "endpoint = f\"/api/1/origin/save/{repo_type}/url/{repo_url}/\"\n",
    "# We need to use a POST request to trigger an archive\n",
    "response = requests.post(base_url + endpoint, headers=headers)\n",
    "\n",
    "print(f\"Status code: {response.status_code}\")\n",
    "print(\"Content:\")\n",
    "print(json.dumps(response.json(), indent=4))"
   ]
  },
  {
   "cell_type": "code",
   "execution_count": null,
   "id": "b9fcef8c-6ec6-4bbe-bdb2-9108dfbd52ae",
   "metadata": {},
   "outputs": [],
   "source": []
  }
 ],
 "metadata": {
  "kernelspec": {
   "display_name": "Python 3 (ipykernel)",
   "language": "python",
   "name": "python3"
  },
  "language_info": {
   "codemirror_mode": {
    "name": "ipython",
    "version": 3
   },
   "file_extension": ".py",
   "mimetype": "text/x-python",
   "name": "python",
   "nbconvert_exporter": "python",
   "pygments_lexer": "ipython3",
   "version": "3.13.0"
  }
 },
 "nbformat": 4,
 "nbformat_minor": 5
}
